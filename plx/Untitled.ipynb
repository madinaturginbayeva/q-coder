{
 "cells": [
  {
   "cell_type": "code",
   "execution_count": null,
   "metadata": {},
   "outputs": [],
   "source": []
  },
  {
   "cell_type": "code",
   "execution_count": 48,
   "metadata": {},
   "outputs": [],
   "source": [
    "import cv2\n",
    "import numpy as np\n",
    "\n",
    "\n",
    "\n",
    "    \n",
    "def checkIfContains(outside, inside):        \n",
    "    return (inside[0] > outside[0] and inside[0] + inside[2]  < outside[0] + outside[2] and inside[1] > outside[1] and inside[1] + inside[3] < outside[1] + outside[3])\n",
    "\n",
    "def filterRectangles(rects):\n",
    "    #Checks if each contour contains some other contous - neccesary to avoid\n",
    "    #spotting two \"0\" inside of 8 etc.\n",
    "    rects_filtered = []\n",
    "    flag = 0\n",
    "    for i in range(0, len(rects)):\n",
    "        for j in range(0, len(rects)):\n",
    "            if(checkIfContains(rects[j], rects[i])):\n",
    "                flag = 1\n",
    "                break\n",
    "        if(flag == 0):\n",
    "            rects_filtered.append(rects[i])\n",
    "        else:\n",
    "            flag = 0\n",
    "    return rects_filtered\n",
    "\n",
    "def load_image(filename, show=True):\n",
    "    img_original = load_img(filename)\n",
    "    # load the image\n",
    "    img = load_img(filename, grayscale=True, target_size=(28, 28))\n",
    "    # convert to array\n",
    "    img = img_to_array(img)\n",
    "    # reshape into a single sample with 1 channel\n",
    "    img = img.reshape(1, 28, 28, 1)\n",
    "    # prepare pixel data\n",
    "    img = img.astype('float32')\n",
    "    img = img / 255.0                              # imshow expects values in the range [0, 1]\n",
    "    \n",
    "    return img\n",
    "\n",
    "\n",
    "\n",
    "\n",
    "def student_id(filename):\n",
    "    sample = cv2.imread(filename)\n",
    "    white_image = np.zeros(sample.shape) + 255\n",
    "    I = cv2.resize(cv2.cvtColor(sample, cv2.COLOR_BGR2GRAY), (700,600))\n",
    "    \n",
    "\n",
    "\n",
    "\n",
    "    \n",
    "    #using adaptive threshold binarization to make algorithm robust on affine brightness changes        \n",
    "    B = cv2.adaptiveThreshold(I,255,cv2.ADAPTIVE_THRESH_MEAN_C,cv2.THRESH_BINARY,11,2)\n",
    "    #cv2.imshow('B', B)\n",
    "    median = B\n",
    "    #using median blur to reduce noise coming from adaptive threshold binarization\n",
    "    #number of iterations was determined experimentally based on sample images    \n",
    "    for i in range(0,7):\n",
    "        median = cv2.medianBlur(median,3)\n",
    "        #cv2.imshow('median', median)\n",
    "\n",
    "    ctr, hierarchy = cv2.findContours(B, cv2.RETR_TREE, cv2.CHAIN_APPROX_SIMPLE)\n",
    "    #filtering contours froms small, unimportant objects\n",
    "    ctr = list(filter(lambda el : el.shape[0]>20 and el.shape[0]<500, ctr))\n",
    "\n",
    "    for i in range(0,100):\n",
    "        cv2.drawContours(white_image, ctr, -1, (0,0,30))\n",
    "    #cv2.imshow(\"ctrs\", white_image)    \n",
    "    #%%\n",
    "    rects = []\n",
    "    i=0\n",
    "    I_1 = B.copy()\n",
    "    for c in ctr:\n",
    "        #getting bounding rectangle for detected digits\n",
    "        peri = cv2.arcLength(c, True)\n",
    "        approx = cv2.approxPolyDP(c, 0.02 * peri, True)\n",
    "        x, y, w, h = cv2.boundingRect(approx)\n",
    "        rect = (x, y, w, h) \n",
    "        rects.append(rect)\n",
    "    #        cv2.rectangle(I_1, (x, y), (x+w, y+h), (0, 255, 0), 1);\n",
    "    #        cv2.imshow(\"final\",I_1)\n",
    "    filtered = filterRectangles(rects)\n",
    "    #%%\n",
    "\n",
    "    I_2 = B.copy()\n",
    "    for i in range(0, len(filtered)):\n",
    "        cv2.rectangle(I_2, (filtered[i][0], filtered[i][1]), (filtered[i][0]+filtered[i][2], filtered[i][1]+filtered[i][3]), (0, 255, 0), 1);\n",
    "\n",
    "    #%%\n",
    "    i=0\n",
    "    resized = []\n",
    "    id=[]\n",
    "    filtered.sort(key = lambda x: x[0])\n",
    "    for f in filtered:\n",
    "    #extracting and downscaling segmented digits to 28x28 in order to be compatible with MNIST database\n",
    "        t = cv2.bitwise_not(median[f[1] - int(f[3]*0.1):f[1]+int(f[3]*1.1), f[0] - int(f[2]*0.1):f[0]+int(1.1*f[2])])\n",
    "        resized = cv2.resize(t, (40,40))\n",
    "        cv2.imwrite(\"0000\"+ str(i) + \".jpg\", resized)\n",
    "        new = load_image(\"0000\"+ str(i) + \".jpg\", resized)\n",
    "        digit = model.predict_classes(new)\n",
    "        i+=1\n",
    "        id.append(digit[0])\n",
    "    return id"
   ]
  },
  {
   "cell_type": "code",
   "execution_count": 50,
   "metadata": {},
   "outputs": [
    {
     "ename": "TypeError",
     "evalue": "student_id() missing 1 required positional argument: 'filename'",
     "output_type": "error",
     "traceback": [
      "\u001b[0;31m---------------------------------------------------------------------------\u001b[0m",
      "\u001b[0;31mTypeError\u001b[0m                                 Traceback (most recent call last)",
      "\u001b[0;32m<ipython-input-50-c90c84783cbb>\u001b[0m in \u001b[0;36m<module>\u001b[0;34m\u001b[0m\n\u001b[0;32m----> 1\u001b[0;31m \u001b[0mstudent_id\u001b[0m\u001b[0;34m(\u001b[0m\u001b[0;34m)\u001b[0m\u001b[0;34m\u001b[0m\u001b[0;34m\u001b[0m\u001b[0m\n\u001b[0m",
      "\u001b[0;31mTypeError\u001b[0m: student_id() missing 1 required positional argument: 'filename'"
     ]
    }
   ],
   "source": []
  },
  {
   "cell_type": "code",
   "execution_count": null,
   "metadata": {},
   "outputs": [],
   "source": []
  },
  {
   "cell_type": "code",
   "execution_count": 34,
   "metadata": {},
   "outputs": [],
   "source": [
    "\n"
   ]
  },
  {
   "cell_type": "code",
   "execution_count": null,
   "metadata": {},
   "outputs": [],
   "source": []
  },
  {
   "cell_type": "code",
   "execution_count": null,
   "metadata": {},
   "outputs": [],
   "source": []
  },
  {
   "cell_type": "code",
   "execution_count": null,
   "metadata": {},
   "outputs": [],
   "source": []
  }
 ],
 "metadata": {
  "kernelspec": {
   "display_name": "Python 3",
   "language": "python",
   "name": "python3"
  },
  "language_info": {
   "codemirror_mode": {
    "name": "ipython",
    "version": 3
   },
   "file_extension": ".py",
   "mimetype": "text/x-python",
   "name": "python",
   "nbconvert_exporter": "python",
   "pygments_lexer": "ipython3",
   "version": "3.7.4"
  }
 },
 "nbformat": 4,
 "nbformat_minor": 2
}
